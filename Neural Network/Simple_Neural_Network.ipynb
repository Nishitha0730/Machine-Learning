{
 "cells": [
  {
   "metadata": {},
   "cell_type": "markdown",
   "source": "# Create Simple Neural Network",
   "id": "614537b73059e587"
  },
  {
   "cell_type": "code",
   "id": "initial_id",
   "metadata": {
    "collapsed": true,
    "ExecuteTime": {
     "end_time": "2025-07-27T14:49:30.952411Z",
     "start_time": "2025-07-27T14:49:30.948179Z"
    }
   },
   "source": [
    "import numpy as np\n",
    "\n",
    "def sigmoid(x):\n",
    "    return 1 / (1 + np.exp(-x))\n",
    "\n",
    "def sigmoid_derivative(x):  # Derivative of sigmoid function\n",
    "    return x * (1 - x)\n",
    "\n",
    "training_inputs = np.array([[0,0,1],\n",
    "                            [1,1,1],\n",
    "                            [1,0,1],\n",
    "                            [0,1,1]])\n",
    "\n",
    "training_outputs = np.array([[0,1,1,0]]).T"
   ],
   "outputs": [],
   "execution_count": 8
  },
  {
   "metadata": {},
   "cell_type": "markdown",
   "source": "Initialize weights randomly",
   "id": "170e6a43407d6945"
  },
  {
   "metadata": {
    "ExecuteTime": {
     "end_time": "2025-07-27T14:49:33.404707Z",
     "start_time": "2025-07-27T14:49:33.397771Z"
    }
   },
   "cell_type": "code",
   "source": [
    "np.random.seed(1)  # get same random numbers every time\n",
    "\n",
    "synaptic_weights = 2*np.random.random((3, 1))-1  # 2*[0,1)-1 for 3 rows and 1 column, range is [-1,1]\n",
    "\n",
    "print(synaptic_weights)"
   ],
   "id": "d0b63535b532713a",
   "outputs": [
    {
     "name": "stdout",
     "output_type": "stream",
     "text": [
      "[[-0.16595599]\n",
      " [ 0.44064899]\n",
      " [-0.99977125]]\n"
     ]
    }
   ],
   "execution_count": 9
  },
  {
   "metadata": {
    "ExecuteTime": {
     "end_time": "2025-07-27T14:50:20.243092Z",
     "start_time": "2025-07-27T14:50:20.218076Z"
    }
   },
   "cell_type": "code",
   "source": [
    "for iteration in range(1000):\n",
    "    input_layer = training_inputs\n",
    "    outputs = sigmoid(np.dot(input_layer, synaptic_weights))\n",
    "\n",
    "    error = training_outputs - outputs\n",
    "    adjustments = error * sigmoid_derivative(outputs)\n",
    "\n",
    "    synaptic_weights += np.dot(input_layer.T, adjustments)\n",
    "\n",
    "print('Synaptic weights after training:')\n",
    "print(synaptic_weights)\n",
    "\n",
    "print('Output after training:')\n",
    "print(outputs)"
   ],
   "id": "ffe357514d11228a",
   "outputs": [
    {
     "name": "stdout",
     "output_type": "stream",
     "text": [
      "Synaptic weights after training:\n",
      "[[ 7.29472383]\n",
      " [-0.21601614]\n",
      " [-3.43311346]]\n",
      "Output after training:\n",
      "[[0.03129247]\n",
      " [0.9745453 ]\n",
      " [0.97938874]\n",
      " [0.02536715]]\n"
     ]
    }
   ],
   "execution_count": 11
  }
 ],
 "metadata": {
  "kernelspec": {
   "display_name": "Python 3",
   "language": "python",
   "name": "python3"
  },
  "language_info": {
   "codemirror_mode": {
    "name": "ipython",
    "version": 2
   },
   "file_extension": ".py",
   "mimetype": "text/x-python",
   "name": "python",
   "nbconvert_exporter": "python",
   "pygments_lexer": "ipython2",
   "version": "2.7.6"
  }
 },
 "nbformat": 4,
 "nbformat_minor": 5
}
