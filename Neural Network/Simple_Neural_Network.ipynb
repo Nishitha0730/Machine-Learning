{
 "cells": [
  {
   "metadata": {},
   "cell_type": "markdown",
   "source": "# Create Simple Neural Network",
   "id": "614537b73059e587"
  },
  {
   "cell_type": "code",
   "id": "initial_id",
   "metadata": {
    "collapsed": true,
    "ExecuteTime": {
     "end_time": "2025-07-27T14:14:05.561721Z",
     "start_time": "2025-07-27T14:14:05.015924Z"
    }
   },
   "source": [
    "import numpy as np\n",
    "\n",
    "def sigmoid(x):\n",
    "    return 1 / (1 + np.exp(-x))\n",
    "\n",
    "training_inputs = np.array([[0,0,1],\n",
    "                            [1,1,1],\n",
    "                            [1,0,1],\n",
    "                            [0,1,1]])\n",
    "\n",
    "training_outputs = np.array([[0,1,1,0]]).T"
   ],
   "outputs": [],
   "execution_count": 1
  },
  {
   "metadata": {},
   "cell_type": "markdown",
   "source": "Initialize weights randomly",
   "id": "170e6a43407d6945"
  },
  {
   "metadata": {
    "ExecuteTime": {
     "end_time": "2025-07-27T14:18:27.541219Z",
     "start_time": "2025-07-27T14:18:27.535855Z"
    }
   },
   "cell_type": "code",
   "source": [
    "np.random.seed(1)  # get same random numbers every time\n",
    "\n",
    "synaptic_weights = 2*np.random.random((3, 1))-1  # 2*[0,1)-1 for 3 rows and 1 column, range is [-1,1]\n",
    "\n",
    "print(synaptic_weights)"
   ],
   "id": "d0b63535b532713a",
   "outputs": [
    {
     "name": "stdout",
     "output_type": "stream",
     "text": [
      "[[-0.16595599]\n",
      " [ 0.44064899]\n",
      " [-0.99977125]]\n"
     ]
    }
   ],
   "execution_count": 4
  },
  {
   "metadata": {
    "ExecuteTime": {
     "end_time": "2025-07-27T14:18:29.978043Z",
     "start_time": "2025-07-27T14:18:29.971039Z"
    }
   },
   "cell_type": "code",
   "source": [
    "for iteration in range(1):\n",
    "    input_layer = training_inputs\n",
    "    outputs = sigmoid(np.dot(input_layer, synaptic_weights))\n",
    "\n",
    "print('Output after training:')\n",
    "print(outputs)"
   ],
   "id": "ffe357514d11228a",
   "outputs": [
    {
     "name": "stdout",
     "output_type": "stream",
     "text": [
      "Output after training:\n",
      "[[0.2689864 ]\n",
      " [0.3262757 ]\n",
      " [0.23762817]\n",
      " [0.36375058]]\n"
     ]
    }
   ],
   "execution_count": 5
  }
 ],
 "metadata": {
  "kernelspec": {
   "display_name": "Python 3",
   "language": "python",
   "name": "python3"
  },
  "language_info": {
   "codemirror_mode": {
    "name": "ipython",
    "version": 2
   },
   "file_extension": ".py",
   "mimetype": "text/x-python",
   "name": "python",
   "nbconvert_exporter": "python",
   "pygments_lexer": "ipython2",
   "version": "2.7.6"
  }
 },
 "nbformat": 4,
 "nbformat_minor": 5
}
