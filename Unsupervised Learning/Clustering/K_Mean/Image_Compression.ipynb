{
 "cells": [
  {
   "metadata": {},
   "cell_type": "markdown",
   "source": "# k-means is used for image compression",
   "id": "e59ffc3868cb5236"
  },
  {
   "cell_type": "code",
   "execution_count": null,
   "id": "initial_id",
   "metadata": {
    "collapsed": true
   },
   "outputs": [],
   "source": [
    "import numpy as np\n",
    "import matplotlib.pyplot as plt"
   ]
  },
  {
   "metadata": {},
   "cell_type": "markdown",
   "source": "### find_closest_centroids",
   "id": "40c2614a275abea9"
  },
  {
   "metadata": {},
   "cell_type": "code",
   "outputs": [],
   "execution_count": null,
   "source": [
    "def find_closest_centroids(X, centroids):\n",
    "    \"\"\"\n",
    "    Args:\n",
    "        X (ndarray): (m, n) Input values\n",
    "        centroids (ndarray): (K, n) centroids\n",
    "\n",
    "    Returns:\n",
    "        idx (array_like): (m,) closest centroids\n",
    "\n",
    "    \"\"\"\n",
    "    m = X.shape[0]\n",
    "    K = centroids.shape[0]\n",
    "    idx = np.zeros(m, dtype=int)\n",
    "\n",
    "    for i in range(m):\n",
    "        distances = np.linalg.norm(X[i] - centroids, axis=1)\n",
    "        idx[i] = np.argmin(distances)\n",
    "\n",
    "    return idx"
   ],
   "id": "bd2ec3928a1cb337"
  }
 ],
 "metadata": {
  "kernelspec": {
   "display_name": "Python 3",
   "language": "python",
   "name": "python3"
  },
  "language_info": {
   "codemirror_mode": {
    "name": "ipython",
    "version": 2
   },
   "file_extension": ".py",
   "mimetype": "text/x-python",
   "name": "python",
   "nbconvert_exporter": "python",
   "pygments_lexer": "ipython2",
   "version": "2.7.6"
  }
 },
 "nbformat": 4,
 "nbformat_minor": 5
}
