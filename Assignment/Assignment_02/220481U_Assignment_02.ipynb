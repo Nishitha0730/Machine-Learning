{
  "nbformat": 4,
  "nbformat_minor": 0,
  "metadata": {
    "colab": {
      "provenance": []
    },
    "kernelspec": {
      "name": "python3",
      "display_name": "Python 3"
    },
    "language_info": {
      "name": "python"
    }
  },
  "cells": [
    {
      "cell_type": "markdown",
      "source": [
        "# Linear Regration"
      ],
      "metadata": {
        "id": "3vjEzIT9Xmn3"
      }
    },
    {
      "cell_type": "markdown",
      "source": [
        "## Question 1"
      ],
      "metadata": {
        "id": "07GPfrhhXYdo"
      }
    },
    {
      "cell_type": "markdown",
      "source": [
        "The Ordinary Least Squares (OLS) method minimizes the squared error between predicted values and actual values. Since the squared term gives large weight to outliers, even a few extreme points can pull the regression line away from the majority of points. This causes the fitted line to not align with the bulk of the data."
      ],
      "metadata": {
        "id": "zwr2I9l2XLZo"
      }
    },
    {
      "cell_type": "markdown",
      "source": [
        "## Question 2"
      ],
      "metadata": {
        "id": "5ufJu5ymXxEB"
      }
    },
    {
      "cell_type": "markdown",
      "source": [
        "Assigning very small weights to outliers reduces their influence, so the regression focuses on fitting the majority (inliers). In Scheme 2, outliers are given more weight than inliers, which worsens the fit for the majority."
      ],
      "metadata": {
        "id": "9MzkkTHaX2mH"
      }
    },
    {
      "cell_type": "markdown",
      "source": [
        "## Question 3"
      ],
      "metadata": {
        "id": "CIFs8tLeX4cc"
      }
    },
    {
      "cell_type": "markdown",
      "source": [
        "Brain imaging has thousands of voxels (features) but a limited number of samples. Linear regression struggles because:\n",
        "\n",
        "\n",
        "\n",
        "*   It suffers from overfitting with high-dimensional data.\n",
        "*   It cannot handle correlated groups (neighboring voxels).\n",
        "*   It lacks built-in feature selection, so irrelevant voxels remain.\n",
        "\n",
        "\n",
        "\n"
      ],
      "metadata": {
        "id": "acMCHKeXYDee"
      }
    },
    {
      "cell_type": "markdown",
      "source": [
        "#Q2) Logistic regression"
      ],
      "metadata": {
        "id": "7kNZakIp-0u7"
      }
    },
    {
      "cell_type": "code",
      "execution_count": null,
      "metadata": {
        "id": "wynPMeOf-uHH"
      },
      "outputs": [],
      "source": [
        "import seaborn as sns\n",
        "import pandas as pd\n",
        "from sklearn.model_selection import train_test_split\n",
        "from sklearn.preprocessing import LabelEncoder, StandardScaler\n",
        "from sklearn.linear_model import LogisticRegression\n",
        "from sklearn.metrics import accuracy_score"
      ]
    },
    {
      "cell_type": "code",
      "source": [
        "# --------------------------\n",
        "# Load and clean dataset\n",
        "# --------------------------\n",
        "df = sns.load_dataset(\"penguins\")\n",
        "df.dropna(inplace=True)\n",
        "\n",
        "# Remove trailing spaces (just in case)\n",
        "df.columns = df.columns.str.strip()\n",
        "\n",
        "# Filter rows for 'Adelie' and 'Chinstrap'\n",
        "selected_classes = ['Adelie', 'Chinstrap']\n",
        "df_filtered = df[df['species'].isin(selected_classes)].copy()\n",
        "\n",
        "# Encode target labels\n",
        "le = LabelEncoder()\n",
        "y_encoded = le.fit_transform(df_filtered['species'])\n",
        "df_filtered['class_encoded'] = y_encoded\n",
        "\n",
        "# Separate features and target\n",
        "y = df_filtered['class_encoded']\n",
        "X = df_filtered.drop(['species', 'class_encoded'], axis=1)\n",
        "\n",
        "# One-hot encode categorical columns ('island', 'sex')\n",
        "X = pd.get_dummies(X, drop_first=True)"
      ],
      "metadata": {
        "id": "Oy_36ekF-_Sr"
      },
      "execution_count": null,
      "outputs": []
    },
    {
      "cell_type": "code",
      "source": [
        "print(X)"
      ],
      "metadata": {
        "colab": {
          "base_uri": "https://localhost:8080/"
        },
        "id": "TeGZVRi6_SH3",
        "outputId": "60400986-8ecb-40bd-b6d2-8eb523e5197d"
      },
      "execution_count": null,
      "outputs": [
        {
          "output_type": "stream",
          "name": "stdout",
          "text": [
            "     bill_length_mm  bill_depth_mm  flipper_length_mm  body_mass_g  \\\n",
            "0              39.1           18.7              181.0       3750.0   \n",
            "1              39.5           17.4              186.0       3800.0   \n",
            "2              40.3           18.0              195.0       3250.0   \n",
            "4              36.7           19.3              193.0       3450.0   \n",
            "5              39.3           20.6              190.0       3650.0   \n",
            "..              ...            ...                ...          ...   \n",
            "215            55.8           19.8              207.0       4000.0   \n",
            "216            43.5           18.1              202.0       3400.0   \n",
            "217            49.6           18.2              193.0       3775.0   \n",
            "218            50.8           19.0              210.0       4100.0   \n",
            "219            50.2           18.7              198.0       3775.0   \n",
            "\n",
            "     island_Dream  island_Torgersen  sex_Male  \n",
            "0           False              True      True  \n",
            "1           False              True     False  \n",
            "2           False              True     False  \n",
            "4           False              True     False  \n",
            "5           False              True      True  \n",
            "..            ...               ...       ...  \n",
            "215          True             False      True  \n",
            "216          True             False     False  \n",
            "217          True             False      True  \n",
            "218          True             False      True  \n",
            "219          True             False     False  \n",
            "\n",
            "[214 rows x 7 columns]\n"
          ]
        }
      ]
    },
    {
      "cell_type": "code",
      "source": [
        "# Train-test split\n",
        "# --------------------------\n",
        "X_train, X_test, y_train, y_test = train_test_split(\n",
        "    X, y, test_size=0.2, random_state=42\n",
        ")\n",
        "\n",
        "# --------------------------\n",
        "# Logistic Regression with saga solver\n",
        "# --------------------------\n",
        "logreg_saga = LogisticRegression(solver='saga', max_iter=5000)\n",
        "logreg_saga.fit(X_train, y_train)\n",
        "\n",
        "y_pred_saga = logreg_saga.predict(X_test)\n",
        "accuracy_saga = accuracy_score(y_test, y_pred_saga)\n",
        "\n",
        "print(\"---- Logistic Regression (saga solver) ----\")\n",
        "print(\"Accuracy:\", accuracy_saga)\n",
        "print(\"Coefficients shape:\", logreg_saga.coef_.shape)\n",
        "print(\"Intercept:\", logreg_saga.intercept_)\n",
        "print()"
      ],
      "metadata": {
        "colab": {
          "base_uri": "https://localhost:8080/"
        },
        "id": "66u0dZDcPP8v",
        "outputId": "54c23bf1-af33-4179-f8d9-3512c47a6d6a"
      },
      "execution_count": null,
      "outputs": [
        {
          "output_type": "stream",
          "name": "stdout",
          "text": [
            "---- Logistic Regression (saga solver) ----\n",
            "Accuracy: 0.7209302325581395\n",
            "Coefficients shape: (1, 7)\n",
            "Intercept: [-0.00057599]\n",
            "\n"
          ]
        },
        {
          "output_type": "stream",
          "name": "stderr",
          "text": [
            "/usr/local/lib/python3.12/dist-packages/sklearn/linear_model/_sag.py:348: ConvergenceWarning: The max_iter was reached which means the coef_ did not converge\n",
            "  warnings.warn(\n"
          ]
        }
      ]
    },
    {
      "cell_type": "code",
      "source": [
        "# Logistic Regression with liblinear solver\n",
        "# --------------------------\n",
        "logreg_liblinear = LogisticRegression(solver='liblinear', max_iter=5000)\n",
        "logreg_liblinear.fit(X_train, y_train)\n",
        "\n",
        "y_pred_liblinear = logreg_liblinear.predict(X_test)\n",
        "accuracy_liblinear = accuracy_score(y_test, y_pred_liblinear)\n",
        "\n",
        "print(\"---- Logistic Regression (liblinear solver) ----\")\n",
        "print(\"Accuracy:\", accuracy_liblinear)\n",
        "print(\"Coefficients shape:\", logreg_liblinear.coef_.shape)\n",
        "print(\"Intercept:\", logreg_liblinear.intercept_)\n",
        "print()\n",
        "\n",
        "# --------------------------\n",
        "# Effect of feature scaling\n",
        "# --------------------------\n",
        "scaler = StandardScaler()\n",
        "X_scaled = scaler.fit_transform(X)\n",
        "\n",
        "X_train_s, X_test_s, y_train_s, y_test_s = train_test_split(\n",
        "    X_scaled, y, test_size=0.2, random_state=42\n",
        ")\n",
        "\n",
        "logreg_saga_scaled = LogisticRegression(solver='saga', max_iter=5000)\n",
        "logreg_saga_scaled.fit(X_train_s, y_train_s)\n",
        "accuracy_saga_scaled = accuracy_score(y_test_s, logreg_saga_scaled.predict(X_test_s))\n",
        "\n",
        "logreg_liblinear_scaled = LogisticRegression(solver='liblinear', max_iter=5000)\n",
        "logreg_liblinear_scaled.fit(X_train_s, y_train_s)\n",
        "accuracy_liblinear_scaled = accuracy_score(y_test_s, logreg_liblinear_scaled.predict(X_test_s))\n",
        "\n",
        "print(\"---- With Feature Scaling ----\")\n",
        "print(\"Saga solver Accuracy:\", accuracy_saga_scaled)\n",
        "print(\"Liblinear solver Accuracy:\", accuracy_liblinear_scaled)"
      ],
      "metadata": {
        "colab": {
          "base_uri": "https://localhost:8080/"
        },
        "id": "8LLtxyRAVwbI",
        "outputId": "14a9ceca-eb61-42a4-db8a-190a4dee0ce3"
      },
      "execution_count": null,
      "outputs": [
        {
          "output_type": "stream",
          "name": "stdout",
          "text": [
            "---- Logistic Regression (liblinear solver) ----\n",
            "Accuracy: 1.0\n",
            "Coefficients shape: (1, 7)\n",
            "Intercept: [-0.07740379]\n",
            "\n",
            "---- With Feature Scaling ----\n",
            "Saga solver Accuracy: 1.0\n",
            "Liblinear solver Accuracy: 1.0\n"
          ]
        }
      ]
    },
    {
      "cell_type": "markdown",
      "source": [
        "## Question 2"
      ],
      "metadata": {
        "id": "MeCxJgdlcFFs"
      }
    },
    {
      "cell_type": "markdown",
      "source": [
        "\n",
        "\n",
        "*   Features such as \"island\" and \"sex\" are categorical strings that must be encoded before training.\n",
        "\n"
      ],
      "metadata": {
        "id": "I87BgqLncW9p"
      }
    },
    {
      "cell_type": "markdown",
      "source": [
        "\n",
        "\n",
        "*   Strip column names with df.columns.str.strip()\n",
        "*   Use one-hot encoding (pd.get_dummies) for categorical variables.\n",
        "*   Increase max_iter for solver convergence.\n",
        "\n"
      ],
      "metadata": {
        "id": "Vkq1nGPochxh"
      }
    },
    {
      "cell_type": "markdown",
      "source": [
        "## Question 3"
      ],
      "metadata": {
        "id": "PCerKiC0hTdG"
      }
    },
    {
      "cell_type": "markdown",
      "source": [
        "\n",
        "\n",
        "*   saga is optimized for large datasets and sparse features.\n",
        "*   Penguins dataset is small and dense, so saga struggles.\n",
        "*   It may fail to converge without scaling or large max_iter."
      ],
      "metadata": {
        "id": "SCapTg9QhqQy"
      }
    },
    {
      "cell_type": "markdown",
      "source": [
        "## Question 4"
      ],
      "metadata": {
        "id": "7W3J0DJ4h3F9"
      }
    },
    {
      "cell_type": "markdown",
      "source": [
        "\n",
        "\n",
        "*   Typically higher than saga\n",
        "*   liblinear is optimized for small dense datasets, making it more suitable here.\n",
        "\n"
      ],
      "metadata": {
        "id": "R7xzzj2uh7aT"
      }
    },
    {
      "cell_type": "markdown",
      "source": [
        "## Question 5"
      ],
      "metadata": {
        "id": "r6DYE7YqiAoQ"
      }
    },
    {
      "cell_type": "markdown",
      "source": [
        "\n",
        "\n",
        "*   liblinear uses coordinate descent optimized for small datasets.\n",
        "*   It converges faster and handles categorical one-hot encoded data well.\n",
        "*   saga introduces more variance in small data."
      ],
      "metadata": {
        "id": "epb78nt4iEwW"
      }
    },
    {
      "cell_type": "markdown",
      "source": [
        "## Question 6"
      ],
      "metadata": {
        "id": "mCyYQm6TiVa5"
      }
    },
    {
      "cell_type": "markdown",
      "source": [
        "\n",
        "\n",
        "*   Different random_state → different train/test split.\n",
        "*   With small data, the split strongly affects performance.\n",
        "*   Saga’s stochastic nature makes it more sensitive to data distribution."
      ],
      "metadata": {
        "id": "DWq-ByVEiZJZ"
      }
    },
    {
      "cell_type": "markdown",
      "source": [
        "## Question 7"
      ],
      "metadata": {
        "id": "42m6tGhBiiZy"
      }
    },
    {
      "cell_type": "markdown",
      "source": [
        "\n",
        "\n",
        "*   Without scaling: features with large values dominate.\n",
        "*   With scaling: all features contribute equally.\n",
        "*   Saga benefits greatly from scaling give higher accuracy.\n",
        "*   Liblinear is less sensitive but still improves slightly.\n"
      ],
      "metadata": {
        "id": "77R_ZWhiimly"
      }
    },
    {
      "cell_type": "markdown",
      "source": [
        "# Logistic Regression – First/Second-Order Methods"
      ],
      "metadata": {
        "id": "4OQLpdf8pBlF"
      }
    },
    {
      "cell_type": "code",
      "source": [
        "import numpy as np\n",
        "import matplotlib.pyplot as plt\n",
        "from sklearn.datasets import make_blobs\n",
        "\n",
        "# Generate synthetic data\n",
        "np.random.seed(0)\n",
        "centers = [[-5, 0], [5, 1.5]]\n",
        "X, y = make_blobs(n_samples=2000, centers=centers, random_state=5)\n",
        "\n",
        "# Apply linear transformation\n",
        "transformation = [[0.5, 0.5], [-0.5, 1.5]]\n",
        "X = np.dot(X, transformation)"
      ],
      "metadata": {
        "id": "TUsgbwSQpCTk"
      },
      "execution_count": null,
      "outputs": []
    },
    {
      "cell_type": "code",
      "source": [
        "def sigmoid(z):\n",
        "    return 1 / (1 + np.exp(-z))\n",
        "\n",
        "def compute_loss(X, y, w):\n",
        "    z = np.dot(X, w)\n",
        "    h = sigmoid(z)\n",
        "    return -np.mean(y * np.log(h + 1e-10) + (1 - y) * np.log(1 - h + 1e-10))\n",
        "\n",
        "def gradient_descent(X, y, lr=0.01, iterations=20):\n",
        "    w = np.zeros(X.shape[1])  # initialize weights = 0\n",
        "    losses = []\n",
        "    for i in range(iterations):\n",
        "        z = np.dot(X, w)\n",
        "        h = sigmoid(z)\n",
        "        grad = np.dot(X.T, (h - y)) / y.size\n",
        "        w -= lr * grad\n",
        "        losses.append(compute_loss(X, y, w))\n",
        "    return w, losses\n",
        "\n",
        "# Add bias term\n",
        "X_bias = np.c_[np.ones(X.shape[0]), X]\n",
        "\n",
        "w_gd, losses_gd = gradient_descent(X_bias, y, lr=0.1, iterations=20)\n",
        "\n",
        "print(\"Final weights (GD):\", w_gd)"
      ],
      "metadata": {
        "colab": {
          "base_uri": "https://localhost:8080/"
        },
        "id": "KTLh26QgpGI4",
        "outputId": "b866e804-129a-4cc1-fdd8-e608f872be8b"
      },
      "execution_count": null,
      "outputs": [
        {
          "output_type": "stream",
          "name": "stdout",
          "text": [
            "Final weights (GD): [-0.05363315  0.53927699  0.66486896]\n"
          ]
        }
      ]
    },
    {
      "cell_type": "markdown",
      "source": [
        "Binary Cross-Entropy Loss (a.k.a. Log Loss):\n",
        "\n",
        "𝐽\n",
        "(\n",
        "𝜃\n",
        ")\n",
        "=\n",
        "−\n",
        "1\n",
        "𝑁\n",
        "∑\n",
        "[\n",
        "𝑦\n",
        "log\n",
        "⁡\n",
        "(\n",
        "ℎ\n",
        "𝜃\n",
        "(\n",
        "𝑥\n",
        ")\n",
        ")\n",
        "+\n",
        "(\n",
        "1\n",
        "−\n",
        "𝑦\n",
        ")\n",
        "log\n",
        "⁡\n",
        "(\n",
        "1\n",
        "−\n",
        "ℎ\n",
        "𝜃\n",
        "(\n",
        "𝑥\n",
        ")\n",
        ")\n",
        "]\n",
        "J(θ)=−\n",
        "N\n",
        "1\n",
        "\t​\n",
        "\n",
        "∑[ylog(h\n",
        "θ\n",
        "\t​\n",
        "\n",
        "(x))+(1−y)log(1−h\n",
        "θ\n",
        "\t​\n",
        "\n",
        "(x))]\n",
        "\n",
        "Reason: It is the standard convex loss function for logistic regression and ensures probabilistic interpretation."
      ],
      "metadata": {
        "id": "5f-wUdTSpZR-"
      }
    },
    {
      "cell_type": "code",
      "source": [
        "def newtons_method(X, y, iterations=20):\n",
        "    w = np.zeros(X.shape[1])\n",
        "    losses = []\n",
        "    for i in range(iterations):\n",
        "        z = np.dot(X, w)\n",
        "        h = sigmoid(z)\n",
        "        grad = np.dot(X.T, (h - y)) / y.size\n",
        "        R = np.diag((h * (1 - h)))\n",
        "        H = np.dot(X.T, np.dot(R, X)) / y.size\n",
        "        w -= np.linalg.inv(H).dot(grad)   # Newton update\n",
        "        losses.append(compute_loss(X, y, w))\n",
        "    return w, losses\n",
        "\n",
        "w_newton, losses_newton = newtons_method(X_bias, y, iterations=20)\n",
        "\n",
        "print(\"Final weights (Newton):\", w_newton)"
      ],
      "metadata": {
        "colab": {
          "base_uri": "https://localhost:8080/"
        },
        "id": "1lrQvPDbpKnW",
        "outputId": "e37c1bfd-1679-4d65-c93e-a38f69a504f8"
      },
      "execution_count": null,
      "outputs": [
        {
          "output_type": "stream",
          "name": "stdout",
          "text": [
            "Final weights (Newton): [-2.93259517 10.56207842  4.32766252]\n"
          ]
        }
      ]
    },
    {
      "cell_type": "code",
      "source": [
        "plt.figure(figsize=(8,6))\n",
        "plt.plot(range(1, 21), losses_gd, label=\"Gradient Descent\")\n",
        "plt.plot(range(1, 21), losses_newton, label=\"Newton's Method\")\n",
        "plt.xlabel(\"Iteration\")\n",
        "plt.ylabel(\"Loss\")\n",
        "plt.title(\"Loss vs Iterations\")\n",
        "plt.legend()\n",
        "plt.show()"
      ],
      "metadata": {
        "colab": {
          "base_uri": "https://localhost:8080/",
          "height": 564
        },
        "id": "t4BfHIBapme8",
        "outputId": "0f755688-5cea-4540-87cd-1b3bb8f2fab4"
      },
      "execution_count": null,
      "outputs": [
        {
          "output_type": "display_data",
          "data": {
            "text/plain": [
              "<Figure size 800x600 with 1 Axes>"
            ],
            "image/png": "[encoded data removed]"
          },
          "metadata": {}
        }
      ]
    },
    {
      "cell_type": "code",
      "source": [
        "# New dataset\n",
        "centers_new = [[2, 2], [5, 1.5]]\n",
        "X_new, y_new = make_blobs(n_samples=2000, centers=centers_new, random_state=5)\n",
        "X_new = np.dot(X_new, transformation)\n",
        "X_new_bias = np.c_[np.ones(X_new.shape[0]), X_new]\n",
        "\n",
        "# Run GD again\n",
        "_, losses_gd_new = gradient_descent(X_new_bias, y_new, lr=0.1, iterations=20)\n",
        "\n",
        "plt.figure(figsize=(8,6))\n",
        "plt.plot(range(1, 21), losses_gd_new, label=\"Gradient Descent (new centers)\")\n",
        "plt.xlabel(\"Iteration\")\n",
        "plt.ylabel(\"Loss\")\n",
        "plt.legend()\n",
        "plt.show()"
      ],
      "metadata": {
        "colab": {
          "base_uri": "https://localhost:8080/",
          "height": 542
        },
        "id": "1gvQ9qPXpojo",
        "outputId": "9a7f5adb-181c-4318-d73d-17831f6ceda0"
      },
      "execution_count": null,
      "outputs": [
        {
          "output_type": "display_data",
          "data": {
            "text/plain": [
              "<Figure size 800x600 with 1 Axes>"
            ],
            "image/png": "[encoded data removed]"
          },
          "metadata": {}
        }
      ]
    },
    {
      "cell_type": "code",
      "source": [],
      "metadata": {
        "id": "VDly28iNpu4s"
      },
      "execution_count": null,
      "outputs": []
    }
  ]
}