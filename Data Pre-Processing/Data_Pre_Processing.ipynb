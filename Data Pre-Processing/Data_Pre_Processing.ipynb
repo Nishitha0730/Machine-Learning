{
 "cells": [
  {
   "metadata": {},
   "cell_type": "markdown",
   "source": "# Load the Data sets",
   "id": "5fd856f049c9c0a2"
  },
  {
   "metadata": {
    "collapsed": true,
    "ExecuteTime": {
     "end_time": "2025-07-25T05:02:11.124438Z",
     "start_time": "2025-07-25T05:02:11.118394Z"
    }
   },
   "cell_type": "code",
   "source": [
    "from sklearn.datasets import load_iris   # return Data Bunch\n",
    "data = load_iris()   # use Dataset Loader to load the dataset\n",
    "# print(data)\n"
   ],
   "id": "initial_id",
   "outputs": [],
   "execution_count": 4
  },
  {
   "metadata": {
    "ExecuteTime": {
     "end_time": "2025-07-25T05:03:23.015659Z",
     "start_time": "2025-07-25T05:03:23.009210Z"
    }
   },
   "cell_type": "code",
   "source": "list(data.target_names)  # get class names",
   "id": "3038d3c11f9d13c8",
   "outputs": [
    {
     "data": {
      "text/plain": [
       "['setosa', 'versicolor', 'virginica']"
      ]
     },
     "execution_count": 7,
     "metadata": {},
     "output_type": "execute_result"
    }
   ],
   "execution_count": 7
  },
  {
   "metadata": {
    "ExecuteTime": {
     "end_time": "2025-07-25T05:05:43.227024Z",
     "start_time": "2025-07-25T05:05:43.221099Z"
    }
   },
   "cell_type": "code",
   "source": "data.target[[0, 50, 100]]  # get target values for the first three samples",
   "id": "76cd71efc5c573b1",
   "outputs": [
    {
     "data": {
      "text/plain": [
       "array([0, 1, 2])"
      ]
     },
     "execution_count": 9,
     "metadata": {},
     "output_type": "execute_result"
    }
   ],
   "execution_count": 9
  }
 ],
 "metadata": {
  "kernelspec": {
   "display_name": "Python 3",
   "language": "python",
   "name": "python3"
  },
  "language_info": {
   "codemirror_mode": {
    "name": "ipython",
    "version": 2
   },
   "file_extension": ".py",
   "mimetype": "text/x-python",
   "name": "python",
   "nbconvert_exporter": "python",
   "pygments_lexer": "ipython2",
   "version": "2.7.6"
  }
 },
 "nbformat": 4,
 "nbformat_minor": 5
}
