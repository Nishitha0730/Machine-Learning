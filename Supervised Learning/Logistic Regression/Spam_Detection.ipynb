{
 "cells": [
  {
   "metadata": {},
   "cell_type": "markdown",
   "source": "# Spam Detection with Logistic Regression",
   "id": "415b135cb5065e91"
  },
  {
   "cell_type": "code",
   "id": "initial_id",
   "metadata": {
    "collapsed": true,
    "ExecuteTime": {
     "end_time": "2025-08-16T20:06:46.222419Z",
     "start_time": "2025-08-16T20:06:46.216027Z"
    }
   },
   "source": [
    "import pandas as pd\n",
    "import numpy as np\n",
    "import matplotlib.pyplot as plt\n",
    "import seaborn as sns"
   ],
   "outputs": [],
   "execution_count": 1
  },
  {
   "metadata": {},
   "cell_type": "markdown",
   "source": "### Load the dataset",
   "id": "a1efecab4cdaf4f7"
  },
  {
   "metadata": {
    "ExecuteTime": {
     "end_time": "2025-08-16T20:08:18.289601Z",
     "start_time": "2025-08-16T20:08:18.268332Z"
    }
   },
   "cell_type": "code",
   "source": [
    "data = pd.read_csv('./spambase/spambase.data', header=None)  # No headers in original file\n",
    "columns = pd.read_csv('./spambase/spambase.names', skiprows=33, sep=':', header=None)[0].tolist() + ['spam']\n",
    "data.columns = columns"
   ],
   "id": "83f8fa82aac3329f",
   "outputs": [],
   "execution_count": 4
  }
 ],
 "metadata": {
  "kernelspec": {
   "display_name": "Python 3",
   "language": "python",
   "name": "python3"
  },
  "language_info": {
   "codemirror_mode": {
    "name": "ipython",
    "version": 2
   },
   "file_extension": ".py",
   "mimetype": "text/x-python",
   "name": "python",
   "nbconvert_exporter": "python",
   "pygments_lexer": "ipython2",
   "version": "2.7.6"
  }
 },
 "nbformat": 4,
 "nbformat_minor": 5
}
